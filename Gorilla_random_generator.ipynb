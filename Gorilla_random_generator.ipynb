{
 "cells": [
  {
   "cell_type": "code",
   "execution_count": 5,
   "metadata": {},
   "outputs": [],
   "source": [
    "import numpy as np\n",
    "import pandas as pd\n",
    "import random\n",
    "\n",
    "def generate_random_meters(num_meters):\n",
    "    exit_zones = [\"EA1\", \"EA2\", \"EA3\", \"EA4\", \"EM1\", \"EM2\", \"EM3\", \"EM4\",\n",
    "                  \"LC\", \"LO\", \"LS\", \"LT\", \"LW\"]\n",
    "\n",
    "    meters = []\n",
    "    for _ in range(num_meters):\n",
    "        meter_id = random.randint(10000000, 99999999)\n",
    "        aq_kwh = random.randint(10000, 999999)\n",
    "        exit_zone = random.choice(exit_zones)\n",
    "\n",
    "        meters.append([meter_id, aq_kwh, exit_zone])\n",
    "\n",
    "    columns = [\"meter_id\", \"aq_kwh\", \"exit_zone\"]\n",
    "    df = pd.DataFrame(meters, columns=columns)\n",
    "    return df"
   ]
  },
  {
   "cell_type": "code",
   "execution_count": 9,
   "metadata": {},
   "outputs": [
    {
     "name": "stdout",
     "output_type": "stream",
     "text": [
      "   meter_id  aq_kwh exit_zone\n",
      "0  63146821  667375       EA4\n",
      "1  99341138  150591       EM1\n",
      "2  40662822  762650        LO\n",
      "3  49370581  617526       EA1\n",
      "4  46116974  487984       EM2\n"
     ]
    }
   ],
   "source": [
    "# Example: Generate a list of random meters\n",
    "random_meters = generate_random_meters(5)\n",
    "print(random_meters)"
   ]
  },
  {
   "cell_type": "code",
   "execution_count": 10,
   "metadata": {},
   "outputs": [],
   "source": [
    "import pandas as pd\n",
    "import numpy as np\n",
    "from datetime import timedelta\n",
    "\n",
    "def generate_mock_consumption_data(meter_list, start_date, duration_days):\n",
    "    # Sort meter_list by meter_id in ascending order\n",
    "    meter_list.sort_values('meter_id', inplace=True)\n",
    "\n",
    "    # Initialize an empty list to store individual meter dataframes\n",
    "    meter_dfs = []\n",
    "\n",
    "    for index, row in meter_list.iterrows():\n",
    "        meter_id = row['meter_id']\n",
    "        aq_kwh = row['aq_kwh']\n",
    "        exit_zone = row['exit_zone']\n",
    "\n",
    "        # Generate random consumption data\n",
    "        dates = pd.date_range(start_date, periods=duration_days, freq='D')\n",
    "        consumption_data = np.random.rand(duration_days) * aq_kwh\n",
    "\n",
    "        # Create a dataframe for the current meter\n",
    "        meter_df = pd.DataFrame({\n",
    "            'meter_id': [meter_id] * duration_days,\n",
    "            'date': dates,\n",
    "            'kwh': consumption_data\n",
    "        })\n",
    "\n",
    "        # Append the dataframe to the list\n",
    "        meter_dfs.append(meter_df)\n",
    "\n",
    "    # Concatenate all individual meter dataframes into a single dataframe\n",
    "    result_df = pd.concat(meter_dfs, ignore_index=True)\n",
    "\n",
    "    return result_df"
   ]
  },
  {
   "cell_type": "code",
   "execution_count": 13,
   "metadata": {},
   "outputs": [
    {
     "data": {
      "text/html": [
       "<div>\n",
       "<style scoped>\n",
       "    .dataframe tbody tr th:only-of-type {\n",
       "        vertical-align: middle;\n",
       "    }\n",
       "\n",
       "    .dataframe tbody tr th {\n",
       "        vertical-align: top;\n",
       "    }\n",
       "\n",
       "    .dataframe thead th {\n",
       "        text-align: right;\n",
       "    }\n",
       "</style>\n",
       "<table border=\"1\" class=\"dataframe\">\n",
       "  <thead>\n",
       "    <tr style=\"text-align: right;\">\n",
       "      <th></th>\n",
       "      <th>meter_id</th>\n",
       "      <th>date</th>\n",
       "      <th>kwh</th>\n",
       "    </tr>\n",
       "  </thead>\n",
       "  <tbody>\n",
       "    <tr>\n",
       "      <th>0</th>\n",
       "      <td>40662822</td>\n",
       "      <td>2020-06-01</td>\n",
       "      <td>199304.813984</td>\n",
       "    </tr>\n",
       "    <tr>\n",
       "      <th>1</th>\n",
       "      <td>40662822</td>\n",
       "      <td>2020-06-02</td>\n",
       "      <td>100989.041212</td>\n",
       "    </tr>\n",
       "    <tr>\n",
       "      <th>2</th>\n",
       "      <td>40662822</td>\n",
       "      <td>2020-06-03</td>\n",
       "      <td>263020.533531</td>\n",
       "    </tr>\n",
       "    <tr>\n",
       "      <th>3</th>\n",
       "      <td>40662822</td>\n",
       "      <td>2020-06-04</td>\n",
       "      <td>35068.747527</td>\n",
       "    </tr>\n",
       "    <tr>\n",
       "      <th>4</th>\n",
       "      <td>40662822</td>\n",
       "      <td>2020-06-05</td>\n",
       "      <td>87781.568878</td>\n",
       "    </tr>\n",
       "  </tbody>\n",
       "</table>\n",
       "</div>"
      ],
      "text/plain": [
       "   meter_id       date            kwh\n",
       "0  40662822 2020-06-01  199304.813984\n",
       "1  40662822 2020-06-02  100989.041212\n",
       "2  40662822 2020-06-03  263020.533531\n",
       "3  40662822 2020-06-04   35068.747527\n",
       "4  40662822 2020-06-05   87781.568878"
      ]
     },
     "execution_count": 13,
     "metadata": {},
     "output_type": "execute_result"
    }
   ],
   "source": [
    "start_date_example = '2020-06-01'\n",
    "duration_days_example = 10\n",
    "\n",
    "mock_consumption_data = generate_mock_consumption_data(random_meters, start_date_example, duration_days_example)\n",
    "mock_consumption_data.head()"
   ]
  },
  {
   "cell_type": "code",
   "execution_count": null,
   "metadata": {},
   "outputs": [],
   "source": []
  }
 ],
 "metadata": {
  "kernelspec": {
   "display_name": "base",
   "language": "python",
   "name": "python3"
  },
  "language_info": {
   "codemirror_mode": {
    "name": "ipython",
    "version": 3
   },
   "file_extension": ".py",
   "mimetype": "text/x-python",
   "name": "python",
   "nbconvert_exporter": "python",
   "pygments_lexer": "ipython3",
   "version": "3.9.13"
  }
 },
 "nbformat": 4,
 "nbformat_minor": 2
}
